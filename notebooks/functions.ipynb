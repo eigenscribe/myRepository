{
 "cells": [
  {
   "cell_type": "code",
   "execution_count": 1,
   "metadata": {},
   "outputs": [
    {
     "name": "stdout",
     "output_type": "stream",
     "text": [
      "10\n",
      "120\n",
      "100\n"
     ]
    }
   ],
   "source": [
    "num1 = 10\n",
    "num2 = 40\n",
    "# code to check minimum number\n",
    "if num1 < num2:\n",
    "  minimum = num1\n",
    "else:\n",
    "  minimum = num2\n",
    "print(minimum)\n",
    "\n",
    "num1 = 250\n",
    "num2 = 120\n",
    "# code to check minimum number\n",
    "if num1 < num2:\n",
    "  minimum = num1\n",
    "else:\n",
    "  minimum = num2\n",
    "print(minimum)\n",
    "\n",
    "num1 = 100\n",
    "num2 = 100\n",
    "# code to check minimum number\n",
    "if num1 < num2:\n",
    "  minimum = num1\n",
    "else:\n",
    "  minimum = num2\n",
    "print(minimum)"
   ]
  },
  {
   "cell_type": "code",
   "execution_count": 2,
   "metadata": {},
   "outputs": [
    {
     "name": "stdout",
     "output_type": "stream",
     "text": [
      "10\n",
      "120\n",
      "100\n",
      "34\n"
     ]
    }
   ],
   "source": [
    "# find minimum using function\n",
    "minimum = min(10,40)\n",
    "print(minimum)\n",
    "\n",
    "# find minimum using function\n",
    "minimum = min(250,120) \n",
    "print(minimum)\n",
    "\n",
    "# find minimum using function\n",
    "minimum = min(100, 100)\n",
    "print(minimum)\n",
    "\n",
    "# It even works with multiple arguments\n",
    "minimum = min(100,120,34,56)\n",
    "print(minimum)"
   ]
  },
  {
   "cell_type": "code",
   "execution_count": 3,
   "metadata": {},
   "outputs": [
    {
     "name": "stdout",
     "output_type": "stream",
     "text": [
      "This\n",
      "is\n",
      "a\n",
      "function\n",
      "\n",
      "This\n",
      "is\n",
      "a\n",
      "function\n",
      "\n"
     ]
    }
   ],
   "source": [
    "def my_print_function(): # No arguments\n",
    "  print (\"This\")\n",
    "  print (\"is\")\n",
    "  print (\"a\")\n",
    "  print (\"function\")\n",
    "  print ()\n",
    "# Function ended\n",
    "\n",
    "#Calling the function in the program multiple times\n",
    "my_print_function()\n",
    "my_print_function()"
   ]
  },
  {
   "cell_type": "code",
   "execution_count": 4,
   "metadata": {},
   "outputs": [
    {
     "name": "stdout",
     "output_type": "stream",
     "text": [
      "Red is my color\n",
      "Yellow is my color\n"
     ]
    }
   ],
   "source": [
    "def color_print (color): # two arguments\n",
    "    if color=='red':\n",
    "        print(\"Red is my color\")\n",
    "    elif color == 'yellow':\n",
    "        print(\"Yellow is my color\")\n",
    "    elif color == 'black':\n",
    "        print(\"Yellow is my color\")\n",
    "    else:\n",
    "        print(\"I dont know the color\")\n",
    "\n",
    "color_1 = 'red'\n",
    "color_2 = 'black'\n",
    "# call function with arguments\n",
    "color_print(color_1)\n",
    "color_print(color_2)"
   ]
  },
  {
   "cell_type": "code",
   "execution_count": 5,
   "metadata": {},
   "outputs": [
    {
     "name": "stdout",
     "output_type": "stream",
     "text": [
      "10\n"
     ]
    }
   ],
   "source": [
    "def minimum (first, second):\n",
    "    if (first < second):\n",
    "        # exit function returning value\n",
    "        return first \n",
    "    else:\n",
    "        # exit function returning value\n",
    "        return second \n",
    "\n",
    "num1 = 10\n",
    "num2 = 20\n",
    "\n",
    "result = minimum (num1, num2) # Storing the value returned by the function\n",
    "print (result)"
   ]
  }
 ],
 "metadata": {
  "language_info": {
   "name": "python"
  }
 },
 "nbformat": 4,
 "nbformat_minor": 2
}
