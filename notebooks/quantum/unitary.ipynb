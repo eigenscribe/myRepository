{
 "cells": [
  {
   "cell_type": "markdown",
   "metadata": {},
   "source": [
    "# Example 1"
   ]
  },
  {
   "cell_type": "code",
   "execution_count": 3,
   "metadata": {},
   "outputs": [
    {
     "name": "stdout",
     "output_type": "stream",
     "text": [
      "Circuit unitary:\n",
      " [[ 0.70711+0.j  0.70711-0.j  0.     +0.j  0.     +0.j]\n",
      " [ 0.     +0.j  0.     +0.j  0.70711+0.j -0.70711+0.j]\n",
      " [ 0.     +0.j  0.     +0.j  0.70711+0.j  0.70711-0.j]\n",
      " [ 0.70711+0.j -0.70711+0.j  0.     +0.j  0.     +0.j]]\n"
     ]
    }
   ],
   "source": [
    "import numpy as np\n",
    "\n",
    "# Import Qiskit\n",
    "from qiskit import QuantumCircuit, transpile\n",
    "from qiskit_aer import Aer, AerSimulator\n",
    "\n",
    "# Construct quantum circuit without measurement\n",
    "qc = QuantumCircuit(2)\n",
    "qc.h(0)\n",
    "qc.cx(0, 1)\n",
    "qc.save_unitary()\n",
    "\n",
    "# Transpile for simulator\n",
    "simulator = Aer.get_backend('aer_simulator')\n",
    "# Alternative simulator option\n",
    "# simulator = AerSimulator(method = 'unitary')\n",
    "qc = transpile(qc, simulator)\n",
    "\n",
    "# Run the circuit and extract the unitary matrix\n",
    "result = simulator.run(qc).result()\n",
    "unitary = result.get_unitary(qc)\n",
    "print(\"Circuit unitary:\\n\", np.asarray(unitary).round(5))"
   ]
  },
  {
   "cell_type": "markdown",
   "metadata": {},
   "source": [
    "# Example 2"
   ]
  },
  {
   "cell_type": "code",
   "execution_count": 6,
   "metadata": {},
   "outputs": [
    {
     "data": {
      "image/png": "[encoded data removed]",
      "text/plain": [
       "<Figure size 371.107x367.889 with 1 Axes>"
      ]
     },
     "execution_count": 6,
     "metadata": {},
     "output_type": "execute_result"
    }
   ],
   "source": [
    "from qiskit import QuantumCircuit\n",
    "from qiskit.quantum_info import Operator\n",
    "\n",
    "# Define the unitary operator for the quantum random walk\n",
    "U_mat = np.zeros((8,8))\n",
    "\n",
    "# Set the 'requsite' elements to 1\n",
    "U_mat[0][2] = 1\n",
    "U_mat[1][1] = 1\n",
    "U_mat[2][4] = 1\n",
    "U_mat[3][6] = 1 \n",
    "U_mat[4][3] = 1\n",
    "U_mat[5][7] = 1\n",
    "U_mat[6][0] = 1\n",
    "U_mat[7][5] = 1\n",
    "\n",
    "# Define the unitary operator\n",
    "U = Operator(U_mat)\n",
    "\n",
    "# Construct and simulate a quantum circuit without measurement\n",
    "qrw_circ = QuantumCircuit(3,3)\n",
    "\n",
    "qrw_circ.h(0)\n",
    "qrw_circ.unitary(U, range(3))\n",
    "qrw_circ.draw('mpl')"
   ]
  },
  {
   "cell_type": "code",
   "execution_count": 9,
   "metadata": {},
   "outputs": [
    {
     "data": {
      "text/latex": [
       "$$\n",
       "\n",
       "\\begin{bmatrix}\n",
       "0 & 0 & \\frac{\\sqrt{2}}{2} & \\frac{\\sqrt{2}}{2} & 0 & 0 & 0 & 0  \\\\\n",
       " \\frac{\\sqrt{2}}{2} & - \\frac{\\sqrt{2}}{2} & 0 & 0 & 0 & 0 & 0 & 0  \\\\\n",
       " 0 & 0 & 0 & 0 & \\frac{\\sqrt{2}}{2} & \\frac{\\sqrt{2}}{2} & 0 & 0  \\\\\n",
       " 0 & 0 & 0 & 0 & 0 & 0 & \\frac{\\sqrt{2}}{2} & \\frac{\\sqrt{2}}{2}  \\\\\n",
       " 0 & 0 & \\frac{\\sqrt{2}}{2} & - \\frac{\\sqrt{2}}{2} & 0 & 0 & 0 & 0  \\\\\n",
       " 0 & 0 & 0 & 0 & 0 & 0 & \\frac{\\sqrt{2}}{2} & - \\frac{\\sqrt{2}}{2}  \\\\\n",
       " \\frac{\\sqrt{2}}{2} & \\frac{\\sqrt{2}}{2} & 0 & 0 & 0 & 0 & 0 & 0  \\\\\n",
       " 0 & 0 & 0 & 0 & \\frac{\\sqrt{2}}{2} & - \\frac{\\sqrt{2}}{2} & 0 & 0  \\\\\n",
       " \\end{bmatrix}\n",
       "$$"
      ],
      "text/plain": [
       "<IPython.core.display.Latex object>"
      ]
     },
     "execution_count": 9,
     "metadata": {},
     "output_type": "execute_result"
    }
   ],
   "source": [
    "qrw_circOp = Operator.from_circuit(qrw_circ)\n",
    "qrw_circOp.draw(\"latex\")"
   ]
  },
  {
   "cell_type": "code",
   "execution_count": null,
   "metadata": {},
   "outputs": [],
   "source": []
  }
 ],
 "metadata": {
  "kernelspec": {
   "display_name": "qenv",
   "language": "python",
   "name": "python3"
  },
  "language_info": {
   "codemirror_mode": {
    "name": "ipython",
    "version": 3
   },
   "file_extension": ".py",
   "mimetype": "text/x-python",
   "name": "python",
   "nbconvert_exporter": "python",
   "pygments_lexer": "ipython3",
   "version": "3.11.2"
  }
 },
 "nbformat": 4,
 "nbformat_minor": 2
}
