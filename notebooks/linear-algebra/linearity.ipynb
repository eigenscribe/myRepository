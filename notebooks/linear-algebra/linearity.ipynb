{
 "cells": [
  {
   "cell_type": "markdown",
   "metadata": {},
   "source": [
    "## Convex Combinations\n",
    "\n",
    "The following code generates convex combinations of $A$ and $B$"
   ]
  },
  {
   "cell_type": "code",
   "execution_count": 25,
   "metadata": {},
   "outputs": [
    {
     "name": "stdout",
     "output_type": "stream",
     "text": [
      "Solution:  (np.float64(3.94), np.float64(-0.96))\n",
      "Solution:  (np.float64(5.46), np.float64(-2.09))\n",
      "Solution:  (np.float64(2.13), np.float64(0.4))\n",
      "Solution:  (np.float64(2.92), np.float64(-0.19))\n",
      "Solution:  (np.float64(4.83), np.float64(-1.62))\n",
      "Solution:  (np.float64(5.03), np.float64(-1.77))\n",
      "Solution:  (np.float64(0.79), np.float64(1.41))\n",
      "Solution:  (np.float64(2.98), np.float64(-0.24))\n",
      "Solution:  (np.float64(1.82), np.float64(0.63))\n",
      "Solution:  (np.float64(1.46), np.float64(0.91))\n"
     ]
    }
   ],
   "source": [
    "import numpy as np\n",
    "\n",
    "def printSolutions(x1, x2, y, k=10):    # w1x1 + w2x2  = y\n",
    "    # Evaluating the equation for 10 random values of alpha\n",
    "    for alpha in np.random.randn(k):\n",
    "        w2 = alpha\n",
    "        w1 = (y-w2*x2)/x1\n",
    "        print('Solution: ', tuple(np.round([w1, w2],2)))        \n",
    "printSolutions(3, 4, 8)"
   ]
  }
 ],
 "metadata": {
  "language_info": {
   "name": "python"
  }
 },
 "nbformat": 4,
 "nbformat_minor": 2
}
