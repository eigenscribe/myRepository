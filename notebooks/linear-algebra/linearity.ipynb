{
 "cells": [
  {
   "cell_type": "markdown",
   "metadata": {},
   "source": [
    "## Convex Combinations\n",
    "\n",
    "The following code generates convex combinations of $A$ and $B$"
   ]
  },
  {
   "cell_type": "code",
   "execution_count": 1,
   "metadata": {},
   "outputs": [
    {
     "name": "stdout",
     "output_type": "stream",
     "text": [
      "Solution:  (np.float64(2.01), np.float64(0.49))\n",
      "Solution:  (np.float64(2.92), np.float64(-0.19))\n",
      "Solution:  (np.float64(-0.01), np.float64(2.01))\n",
      "Solution:  (np.float64(4.0), np.float64(-1.0))\n",
      "Solution:  (np.float64(4.33), np.float64(-1.25))\n",
      "Solution:  (np.float64(-0.2), np.float64(2.15))\n",
      "Solution:  (np.float64(2.42), np.float64(0.18))\n",
      "Solution:  (np.float64(2.07), np.float64(0.45))\n",
      "Solution:  (np.float64(0.58), np.float64(1.57))\n",
      "Solution:  (np.float64(2.14), np.float64(0.4))\n"
     ]
    }
   ],
   "source": [
    "import numpy as np\n",
    "\n",
    "def printSolutions(x1, x2, y, k=10):    # w1x1 + w2x2  = y\n",
    "    # Evaluating the equation for 10 random values of alpha\n",
    "    for alpha in np.random.randn(k):\n",
    "        w2 = alpha\n",
    "        w1 = (y-w2*x2)/x1\n",
    "        print('Solution: ', tuple(np.round([w1, w2],2)))        \n",
    "printSolutions(3, 4, 8)"
   ]
  }
 ],
 "metadata": {
  "kernelspec": {
   "display_name": "myvenv",
   "language": "python",
   "name": "python3"
  },
  "language_info": {
   "codemirror_mode": {
    "name": "ipython",
    "version": 3
   },
   "file_extension": ".py",
   "mimetype": "text/x-python",
   "name": "python",
   "nbconvert_exporter": "python",
   "pygments_lexer": "ipython3",
   "version": "3.12.1"
  }
 },
 "nbformat": 4,
 "nbformat_minor": 2
}
