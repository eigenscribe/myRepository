{
 "cells": [
  {
   "cell_type": "code",
   "execution_count": 3,
   "metadata": {},
   "outputs": [
    {
     "name": "stdout",
     "output_type": "stream",
     "text": [
      "5\n",
      "H\n",
      "e\n",
      "o\n"
     ]
    }
   ],
   "source": [
    "x = 'Hello'\n",
    "\n",
    "# Print the length of the string\n",
    "length = len(x)\n",
    "print(length)\n",
    "\n",
    "# Print First character of the string\n",
    "first = x[0]\n",
    "print(first)\n",
    "\n",
    "# Print second character of the string\n",
    "second = x[1]\n",
    "print(second)\n",
    "\n",
    "# Print last character of the string\n",
    "last = x[len(x) - 1]\n",
    "print(last)"
   ]
  },
  {
   "cell_type": "code",
   "execution_count": 4,
   "metadata": {},
   "outputs": [
    {
     "name": "stdout",
     "output_type": "stream",
     "text": [
      "7\n",
      "-1.25\n",
      "3.123456790123457\n",
      "6.123456790123457\n"
     ]
    }
   ],
   "source": [
    "print(3+4)\n",
    "print(3-4.25)\n",
    "\n",
    "# Precedence\n",
    "result = 3 + 5 // 2 * 5 / (9**2)\n",
    "x = 3\n",
    "print(result)\n",
    "print(result+x)\n"
   ]
  },
  {
   "cell_type": "code",
   "execution_count": 5,
   "metadata": {},
   "outputs": [
    {
     "name": "stdout",
     "output_type": "stream",
     "text": [
      "HelloWorld\n",
      "amamam\n",
      "False\n"
     ]
    }
   ],
   "source": [
    "message = 'Hello'\n",
    "temp = 'World'\n",
    "print(message + temp)\n",
    "\n",
    "s = 'am'\n",
    "print(s*3)\n",
    "\n",
    "print(s in message)"
   ]
  },
  {
   "cell_type": "code",
   "execution_count": 6,
   "metadata": {},
   "outputs": [
    {
     "name": "stdout",
     "output_type": "stream",
     "text": [
      "You are still young.\n"
     ]
    }
   ],
   "source": [
    "age = 34\n",
    "if age < 50:\n",
    "  print(\"You are still young.\")\n",
    "\n",
    "age = 65\n",
    "if age < 50:\n",
    "  print(\"You are still young.\")"
   ]
  },
  {
   "cell_type": "code",
   "execution_count": 7,
   "metadata": {},
   "outputs": [
    {
     "name": "stdout",
     "output_type": "stream",
     "text": [
      "You are still young.\n",
      "You are getting old.\n"
     ]
    }
   ],
   "source": [
    "age = 34\n",
    "if age  < 50:\n",
    "  print(\"You are still young.\")\n",
    "else:\n",
    "  print(\"You are getting old.\")\n",
    "\n",
    "age = 55\n",
    "if age  < 50:\n",
    "  print(\"You are still young.\")\n",
    "else:\n",
    "  print(\"You are getting old.\")"
   ]
  },
  {
   "cell_type": "code",
   "execution_count": 8,
   "metadata": {},
   "outputs": [
    {
     "name": "stdout",
     "output_type": "stream",
     "text": [
      "Yellow is my color\n",
      "I dont know the color\n"
     ]
    }
   ],
   "source": [
    "color = 'yellow'\n",
    "\n",
    "if color=='red':\n",
    "  print(\"Red is my color\")\n",
    "elif color == 'yellow':\n",
    "  print(\"Yellow is my color\")\n",
    "elif color == 'black':\n",
    "  print(\"Yellow is my color\")\n",
    "else:\n",
    "  print(\"I dont know the color\")\n",
    "\n",
    "color = 'white'\n",
    "if color=='red':\n",
    "  print(\"Red is my color\")\n",
    "elif color == 'yellow':\n",
    "  print(\"Yellow is my color\")\n",
    "elif color == 'black':\n",
    "  print(\"Yellow is my color\")\n",
    "else:\n",
    "  print(\"I dont know the color\")"
   ]
  }
 ],
 "metadata": {
  "language_info": {
   "name": "python"
  }
 },
 "nbformat": 4,
 "nbformat_minor": 2
}
