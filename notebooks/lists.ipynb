{
 "cells": [
  {
   "cell_type": "code",
   "execution_count": 3,
   "metadata": {},
   "outputs": [
    {
     "name": "stdout",
     "output_type": "stream",
     "text": [
      "['John Snow', 'Ned Stark', 'Bran Stark', 'Sansa Stark', 'Arya Stark']\n",
      "[24, 25, 23, 34, 30]\n"
     ]
    }
   ],
   "source": [
    "scores = [24,25,23,34,30]\n",
    "names = ['John Snow','Ned Stark','Bran Stark','Sansa Stark','Arya Tarly']\n",
    "print(names)\n",
    "print(scores)"
   ]
  },
  {
   "cell_type": "markdown",
   "metadata": {},
   "source": [
    "# Indexing\n",
    "A list is similar to a string in the sense that we can access the elements in the list by *indexing*."
   ]
  },
  {
   "cell_type": "code",
   "execution_count": 5,
   "metadata": {},
   "outputs": [
    {
     "name": "stdout",
     "output_type": "stream",
     "text": [
      "25\n",
      "Arya Stark\n"
     ]
    }
   ],
   "source": [
    "scores = [24,25,23,34,30]\n",
    "names = ['John Snow','Ned Stark','Bran Stark','Sansa Stark','Arya Stark']\n",
    "print(scores[1])\n",
    "print(names[len(names)-1])"
   ]
  },
  {
   "cell_type": "markdown",
   "metadata": {},
   "source": [
    "# Appending a list"
   ]
  },
  {
   "cell_type": "code",
   "execution_count": 6,
   "metadata": {},
   "outputs": [
    {
     "name": "stdout",
     "output_type": "stream",
     "text": [
      "['chair', 'table', 'phone']\n"
     ]
    }
   ],
   "source": [
    "objects = []\n",
    "objects.append('chair')\n",
    "objects.append('table')\n",
    "\n",
    "x = 'phone'\n",
    "objects.append(x)\n",
    "\n",
    "print(objects)"
   ]
  },
  {
   "cell_type": "markdown",
   "metadata": {},
   "source": [
    "# Iterate over a list using a `for` loop"
   ]
  },
  {
   "cell_type": "code",
   "execution_count": 7,
   "metadata": {},
   "outputs": [
    {
     "name": "stdout",
     "output_type": "stream",
     "text": [
      "The square of 1 = 1\n",
      "The square of 2 = 4\n",
      "The square of 3 = 9\n",
      "The square of 4 = 16\n",
      "The square of 5 = 25\n",
      "The square of 6 = 36\n",
      "The square of 7 = 49\n",
      "The square of 8 = 64\n",
      "The square of 9 = 81\n",
      "The square of 10 = 100\n"
     ]
    }
   ],
   "source": [
    "# for loop that iterates over a list \n",
    "for i in range(1,11):\n",
    "  sq = i**2\n",
    "  print('The square of',i, '=',sq)"
   ]
  },
  {
   "cell_type": "markdown",
   "metadata": {},
   "source": [
    "## The `break` statement\n",
    "Sometimes, we want to exit a loop before it reaches the end.\n",
    "- This can happen if we have found what we were looking for and don’t need to make any more computations in the loop.\n",
    "- A good example would be if we are searching in a list for an item. We will exit the loop once we have found it. (see code below)"
   ]
  },
  {
   "cell_type": "code",
   "execution_count": 8,
   "metadata": {},
   "outputs": [
    {
     "name": "stdout",
     "output_type": "stream",
     "text": [
      "Joey does not share food!\n"
     ]
    }
   ],
   "source": [
    "names = ['Monica','Ross','Chandler','Joey','Pheobe','Rachel']\n",
    "found = False\n",
    "for i in names:\n",
    "  if i == 'Joey':\n",
    "    print('Joey does not share food!' )\n",
    "    found = True\n",
    "    break\n",
    "\n",
    "if found == False:\n",
    "  print('Joey not found')"
   ]
  }
 ],
 "metadata": {
  "language_info": {
   "name": "python"
  }
 },
 "nbformat": 4,
 "nbformat_minor": 2
}
